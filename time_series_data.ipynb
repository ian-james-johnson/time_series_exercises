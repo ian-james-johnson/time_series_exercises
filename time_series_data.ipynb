{
 "cells": [
  {
   "cell_type": "code",
   "execution_count": 1,
   "id": "5a314277",
   "metadata": {},
   "outputs": [],
   "source": [
    "import pandas as pd\n",
    "import numpy as np\n",
    "import matplotlib.pyplot as plt\n",
    "import seaborn as sns\n",
    "from vega_datasets import data\n",
    "\n",
    "df = data.sf_temps()\n",
    "df = df.set_index('date')"
   ]
  },
  {
   "cell_type": "markdown",
   "id": "da541913",
   "metadata": {},
   "source": [
    "1) Resample by the day and take the average temperature. Visualize the average temperature over time. <br>\n",
    "2) Write the code necessary to visualize the minimum temperature over time. <br>\n",
    "3) Write the code necessary to visualize the maximum temperature over time. <br>"
   ]
  },
  {
   "cell_type": "code",
   "execution_count": 3,
   "id": "a8481ff2",
   "metadata": {},
   "outputs": [
    {
     "data": {
      "text/html": [
       "<div>\n",
       "<style scoped>\n",
       "    .dataframe tbody tr th:only-of-type {\n",
       "        vertical-align: middle;\n",
       "    }\n",
       "\n",
       "    .dataframe tbody tr th {\n",
       "        vertical-align: top;\n",
       "    }\n",
       "\n",
       "    .dataframe thead th {\n",
       "        text-align: right;\n",
       "    }\n",
       "</style>\n",
       "<table border=\"1\" class=\"dataframe\">\n",
       "  <thead>\n",
       "    <tr style=\"text-align: right;\">\n",
       "      <th></th>\n",
       "      <th>temp</th>\n",
       "    </tr>\n",
       "    <tr>\n",
       "      <th>date</th>\n",
       "      <th></th>\n",
       "    </tr>\n",
       "  </thead>\n",
       "  <tbody>\n",
       "    <tr>\n",
       "      <th>2010-01-01 00:00:00</th>\n",
       "      <td>47.8</td>\n",
       "    </tr>\n",
       "    <tr>\n",
       "      <th>2010-01-01 01:00:00</th>\n",
       "      <td>47.4</td>\n",
       "    </tr>\n",
       "    <tr>\n",
       "      <th>2010-01-01 02:00:00</th>\n",
       "      <td>46.9</td>\n",
       "    </tr>\n",
       "    <tr>\n",
       "      <th>2010-01-01 03:00:00</th>\n",
       "      <td>46.5</td>\n",
       "    </tr>\n",
       "    <tr>\n",
       "      <th>2010-01-01 04:00:00</th>\n",
       "      <td>46.0</td>\n",
       "    </tr>\n",
       "  </tbody>\n",
       "</table>\n",
       "</div>"
      ],
      "text/plain": [
       "                     temp\n",
       "date                     \n",
       "2010-01-01 00:00:00  47.8\n",
       "2010-01-01 01:00:00  47.4\n",
       "2010-01-01 02:00:00  46.9\n",
       "2010-01-01 03:00:00  46.5\n",
       "2010-01-01 04:00:00  46.0"
      ]
     },
     "execution_count": 3,
     "metadata": {},
     "output_type": "execute_result"
    }
   ],
   "source": [
    "df.head()"
   ]
  },
  {
   "cell_type": "code",
   "execution_count": 4,
   "id": "efe4d0cd",
   "metadata": {},
   "outputs": [
    {
     "name": "stdout",
     "output_type": "stream",
     "text": [
      "<class 'pandas.core.frame.DataFrame'>\n",
      "DatetimeIndex: 8759 entries, 2010-01-01 00:00:00 to 2010-12-31 23:00:00\n",
      "Data columns (total 1 columns):\n",
      " #   Column  Non-Null Count  Dtype  \n",
      "---  ------  --------------  -----  \n",
      " 0   temp    8759 non-null   float64\n",
      "dtypes: float64(1)\n",
      "memory usage: 136.9 KB\n"
     ]
    }
   ],
   "source": [
    "df.info()"
   ]
  },
  {
   "cell_type": "code",
   "execution_count": 5,
   "id": "c58d2e08",
   "metadata": {},
   "outputs": [
    {
     "data": {
      "image/png": "[encoded data removed]",
      "text/plain": [
       "<Figure size 432x288 with 1 Axes>"
      ]
     },
     "metadata": {
      "needs_background": "light"
     },
     "output_type": "display_data"
    }
   ],
   "source": [
    "# groups rows by day,  uses max/mean/mean for aggregation, renames temp to other column name\n",
    "# by aggregation function\n",
    "# does not alter df\n",
    "# combines lines into same plot\n",
    "daily_max = df.resample('D').max().rename(columns={'temp':'max'})\n",
    "daily_avg = df.resample('D').mean().rename(columns={'temp':'avg'})\n",
    "daily_min = df.resample('D').min().rename(columns={'temp':'min'})\n",
    "daily = daily_avg.join([daily_min, daily_max])\n",
    "daily.plot()\n",
    "plt.title('Daily Temp')\n",
    "plt.ylabel('Temp (°F)')\n",
    "plt.xlabel('Date')\n",
    "plt.show()"
   ]
  },
  {
   "cell_type": "markdown",
   "id": "9195ad5c",
   "metadata": {},
   "source": [
    "4) Which month is the coldest, on average? <br>\n",
    "5) Which month has the highest average temperature? <br>"
   ]
  },
  {
   "cell_type": "code",
   "execution_count": 7,
   "id": "33d1a0ee",
   "metadata": {},
   "outputs": [
    {
     "name": "stdout",
     "output_type": "stream",
     "text": [
      "Coldest Month: January\n",
      "Hottest Month: September\n"
     ]
    }
   ],
   "source": [
    "# groups by month and aggregates by mean\n",
    "# resets index, the index is no longer date-time\n",
    "monthly_avg = df.resample('M').mean().reset_index()\n",
    "\n",
    "# finds coldest and hottest months\n",
    "# everything in square brackets gives a df, the .date takes the .date column from that df\n",
    "coldest = monthly_avg[monthly_avg.temp == monthly_avg.temp.min()].date\n",
    "hottest = monthly_avg[monthly_avg.temp == monthly_avg.temp.max()].date\n",
    "\n",
    "print('Coldest Month:', coldest.dt.month_name().iloc[0])\n",
    "print('Hottest Month:', hottest.dt.month_name().iloc[0])"
   ]
  },
  {
   "cell_type": "markdown",
   "id": "b20e9cc4",
   "metadata": {},
   "source": [
    "6) Resample by the day and calculate the min and max temp for the day <br>\n",
    "(Hint: .agg(['min', 'max'])). Use this resampled dataframe \n",
    "to calculate the change in temperature for the day. \n",
    "Which month has the highest daily temperature variability?\n"
   ]
  },
  {
   "cell_type": "code",
   "execution_count": 19,
   "id": "1f8b08d1",
   "metadata": {},
   "outputs": [
    {
     "name": "stdout",
     "output_type": "stream",
     "text": [
      "Highest temp variability: September\n"
     ]
    }
   ],
   "source": [
    "# groups by day and aggregates by min and max\n",
    "# creates a new column for min and another column for max\n",
    "# date is still the index\n",
    "dmm = df.resample('D').agg(['min', 'max'])\n",
    "\n",
    "# creates new column for temp differences between min and max\n",
    "dmm['delta'] = dmm.temp['max'] - dmm.temp['min']\n",
    "\n",
    "# groups delta by month and aggregates by mean\n",
    "# min and max columns have disapeared\n",
    "dmm = dmm.resample('M').delta.mean()\n",
    "\n",
    "# finds max temp variability month\n",
    "# strftime method formats dates, %B is give month name\n",
    "hvar = dmm[dmm == dmm.max()].index.strftime('%B')[0]\n",
    "print('Highest temp variability:', hvar)"
   ]
  },
  {
   "cell_type": "markdown",
   "id": "03e3e501",
   "metadata": {},
   "source": [
    "7) Bonus: Visualize the daily min, average, and max temperature over time on a single line plot, i.e. the min, average, and maximum temperature should be 3 seperate lines."
   ]
  },
  {
   "cell_type": "code",
   "execution_count": 20,
   "id": "b6427686",
   "metadata": {},
   "outputs": [
    {
     "data": {
      "image/png": "[encoded data removed]",
      "text/plain": [
       "<Figure size 432x288 with 1 Axes>"
      ]
     },
     "metadata": {
      "needs_background": "light"
     },
     "output_type": "display_data"
    }
   ],
   "source": [
    "daily = daily_avg.join([daily_min, daily_max])\n",
    "daily.plot()\n",
    "plt.title('Daily Temp')\n",
    "plt.ylabel('Temp (°F)')\n",
    "plt.xlabel('Date')\n",
    "plt.show()"
   ]
  },
  {
   "cell_type": "code",
   "execution_count": 22,
   "id": "ce8579be",
   "metadata": {},
   "outputs": [
    {
     "data": {
      "text/html": [
       "<div>\n",
       "<style scoped>\n",
       "    .dataframe tbody tr th:only-of-type {\n",
       "        vertical-align: middle;\n",
       "    }\n",
       "\n",
       "    .dataframe tbody tr th {\n",
       "        vertical-align: top;\n",
       "    }\n",
       "\n",
       "    .dataframe thead th {\n",
       "        text-align: right;\n",
       "    }\n",
       "</style>\n",
       "<table border=\"1\" class=\"dataframe\">\n",
       "  <thead>\n",
       "    <tr style=\"text-align: right;\">\n",
       "      <th></th>\n",
       "      <th>precipitation</th>\n",
       "      <th>temp_max</th>\n",
       "      <th>temp_min</th>\n",
       "      <th>wind</th>\n",
       "      <th>weather</th>\n",
       "    </tr>\n",
       "    <tr>\n",
       "      <th>date</th>\n",
       "      <th></th>\n",
       "      <th></th>\n",
       "      <th></th>\n",
       "      <th></th>\n",
       "      <th></th>\n",
       "    </tr>\n",
       "  </thead>\n",
       "  <tbody>\n",
       "    <tr>\n",
       "      <th>2012-01-01</th>\n",
       "      <td>0.0</td>\n",
       "      <td>12.8</td>\n",
       "      <td>5.0</td>\n",
       "      <td>4.7</td>\n",
       "      <td>drizzle</td>\n",
       "    </tr>\n",
       "    <tr>\n",
       "      <th>2012-01-02</th>\n",
       "      <td>10.9</td>\n",
       "      <td>10.6</td>\n",
       "      <td>2.8</td>\n",
       "      <td>4.5</td>\n",
       "      <td>rain</td>\n",
       "    </tr>\n",
       "    <tr>\n",
       "      <th>2012-01-03</th>\n",
       "      <td>0.8</td>\n",
       "      <td>11.7</td>\n",
       "      <td>7.2</td>\n",
       "      <td>2.3</td>\n",
       "      <td>rain</td>\n",
       "    </tr>\n",
       "    <tr>\n",
       "      <th>2012-01-04</th>\n",
       "      <td>20.3</td>\n",
       "      <td>12.2</td>\n",
       "      <td>5.6</td>\n",
       "      <td>4.7</td>\n",
       "      <td>rain</td>\n",
       "    </tr>\n",
       "    <tr>\n",
       "      <th>2012-01-05</th>\n",
       "      <td>1.3</td>\n",
       "      <td>8.9</td>\n",
       "      <td>2.8</td>\n",
       "      <td>6.1</td>\n",
       "      <td>rain</td>\n",
       "    </tr>\n",
       "  </tbody>\n",
       "</table>\n",
       "</div>"
      ],
      "text/plain": [
       "            precipitation  temp_max  temp_min  wind  weather\n",
       "date                                                        \n",
       "2012-01-01            0.0      12.8       5.0   4.7  drizzle\n",
       "2012-01-02           10.9      10.6       2.8   4.5     rain\n",
       "2012-01-03            0.8      11.7       7.2   2.3     rain\n",
       "2012-01-04           20.3      12.2       5.6   4.7     rain\n",
       "2012-01-05            1.3       8.9       2.8   6.1     rain"
      ]
     },
     "execution_count": 22,
     "metadata": {},
     "output_type": "execute_result"
    }
   ],
   "source": [
    "s = data.seattle_weather().set_index('date')\n",
    "s.head()"
   ]
  },
  {
   "cell_type": "code",
   "execution_count": 23,
   "id": "da2afb24",
   "metadata": {},
   "outputs": [
    {
     "name": "stdout",
     "output_type": "stream",
     "text": [
      "<class 'pandas.core.frame.DataFrame'>\n",
      "DatetimeIndex: 1461 entries, 2012-01-01 to 2015-12-31\n",
      "Data columns (total 5 columns):\n",
      " #   Column         Non-Null Count  Dtype  \n",
      "---  ------         --------------  -----  \n",
      " 0   precipitation  1461 non-null   float64\n",
      " 1   temp_max       1461 non-null   float64\n",
      " 2   temp_min       1461 non-null   float64\n",
      " 3   wind           1461 non-null   float64\n",
      " 4   weather        1461 non-null   object \n",
      "dtypes: float64(4), object(1)\n",
      "memory usage: 68.5+ KB\n"
     ]
    }
   ],
   "source": [
    "s.info()"
   ]
  },
  {
   "cell_type": "markdown",
   "id": "60306ed2",
   "metadata": {},
   "source": [
    "1) Which year and month combination has the highest amount of precipitation?"
   ]
  },
  {
   "cell_type": "code",
   "execution_count": 32,
   "id": "0b2bda86",
   "metadata": {},
   "outputs": [
    {
     "name": "stdout",
     "output_type": "stream",
     "text": [
      "Highest amount of precipitation: December, 2015\n"
     ]
    }
   ],
   "source": [
    "# groups by month and aggregates by sum\n",
    "ps = s.resample('M').sum()\n",
    "\n",
    "# everything in [] gives month with max precipitaion\n",
    "# then the index is reset and date is no longer the index\n",
    "# then .date turns the df into a series giving the date and index 0\n",
    "# then iloc pulls the date from that series\n",
    "hpd = (ps[ps.precipitation == ps.precipitation.max()]).reset_index().date.iloc[0]\n",
    "\n",
    "print('Highest amount of precipitation:', hpd.strftime((\"%B, %Y\")))"
   ]
  },
  {
   "cell_type": "markdown",
   "id": "4ac77e4a",
   "metadata": {},
   "source": [
    "2) Visualize the amount of monthly precipitation over time."
   ]
  },
  {
   "cell_type": "code",
   "execution_count": 33,
   "id": "1c04d6ec",
   "metadata": {},
   "outputs": [
    {
     "data": {
      "image/png": "[encoded data removed]",
      "text/plain": [
       "<Figure size 432x288 with 1 Axes>"
      ]
     },
     "metadata": {
      "needs_background": "light"
     },
     "output_type": "display_data"
    }
   ],
   "source": [
    "# groups by month and aggregates by mean\n",
    "aps = s.resample('M').mean()\n",
    "\n",
    "aps.precipitation.plot()\n",
    "plt.ylabel('Monthly rainfall (in inches)')\n",
    "plt.xlabel('Date')\n",
    "plt.title('Average Monthly Precipitation')\n",
    "plt.show()"
   ]
  },
  {
   "cell_type": "markdown",
   "id": "8c660e9e",
   "metadata": {},
   "source": [
    "3) Visualize the amount of wind over time. Choose a time interval you think is appropriate."
   ]
  },
  {
   "cell_type": "code",
   "execution_count": 34,
   "id": "3afff3be",
   "metadata": {},
   "outputs": [
    {
     "data": {
      "image/png": "[encoded data removed]",
      "text/plain": [
       "<Figure size 432x288 with 1 Axes>"
      ]
     },
     "metadata": {
      "needs_background": "light"
     },
     "output_type": "display_data"
    }
   ],
   "source": [
    "# group by month and aggregate by mean\n",
    "wdf = s.resample('M').mean()\n",
    "\n",
    "wdf.wind.plot()\n",
    "plt.xlabel('Date')\n",
    "plt.ylabel('Wind Speed in MPH')\n",
    "plt.title('Average Wind Speed')\n",
    "plt.show()"
   ]
  },
  {
   "cell_type": "markdown",
   "id": "4e875c60",
   "metadata": {},
   "source": [
    "4) Which year-month combination is the windiest?"
   ]
  },
  {
   "cell_type": "code",
   "execution_count": 36,
   "id": "c115fe7d",
   "metadata": {},
   "outputs": [
    {
     "name": "stdout",
     "output_type": "stream",
     "text": [
      "Windiest Month: December, 2015\n"
     ]
    }
   ],
   "source": [
    "# group by month and aggregate by sum\n",
    "ws = s.resample('M').sum()\n",
    "\n",
    "# highest wind date\n",
    "windy = (ws[ws.wind == ws.wind.max()]).reset_index().date.iloc[0]\n",
    "print('Windiest Month:', windy.strftime((\"%B, %Y\")))"
   ]
  },
  {
   "cell_type": "markdown",
   "id": "dfd2913e",
   "metadata": {},
   "source": [
    "5) What's the sunniest year? (Hint: which day has the highest number of days where weather == sun?)"
   ]
  },
  {
   "cell_type": "code",
   "execution_count": 44,
   "id": "84c38e0d",
   "metadata": {},
   "outputs": [
    {
     "name": "stdout",
     "output_type": "stream",
     "text": [
      "The sunniest year is: 2014\n"
     ]
    }
   ],
   "source": [
    "def sum_sun(grp):\n",
    "    return np.sum(grp=='sun')\n",
    "\n",
    "# groups by year and aggregates by custom sum_sun function above\n",
    "# weather give sum of sunny days now instead of weather category\n",
    "# weather column is renamed to sun_count\n",
    "weather = s.resample('Y').agg({'weather': sum_sun}).rename(columns={'weather':'sun_count'})\n",
    "weather.sun_count.max()\n",
    "\n",
    "sunniest_year = (weather[weather.sun_count == weather.sun_count.max()]).reset_index().date.iloc[0].strftime('%Y')\n",
    "print('The sunniest year is:', sunniest_year)"
   ]
  },
  {
   "cell_type": "markdown",
   "id": "955a8e19",
   "metadata": {},
   "source": [
    "6) In which month does it rain the most?¶"
   ]
  },
  {
   "cell_type": "code",
   "execution_count": 45,
   "id": "ea76c933",
   "metadata": {},
   "outputs": [
    {
     "name": "stdout",
     "output_type": "stream",
     "text": [
      "December\n"
     ]
    }
   ],
   "source": [
    "# group by month and aggregate by sum\n",
    "month = s.resample('M').sum()\n",
    "\n",
    "most_rain = month.sort_values(by='precipitation').tail(1).reset_index().iloc[0].date\n",
    "print(most_rain.strftime('%B'))"
   ]
  },
  {
   "cell_type": "markdown",
   "id": "e9e036f7",
   "metadata": {},
   "source": [
    "7) Which month has the most number of days with a non-zero amount of precipitation?"
   ]
  },
  {
   "cell_type": "code",
   "execution_count": 47,
   "id": "8656dd66",
   "metadata": {},
   "outputs": [
    {
     "name": "stdout",
     "output_type": "stream",
     "text": [
      "December\n"
     ]
    }
   ],
   "source": [
    "def norain(grp):\n",
    "    return np.sum(grp!=0)\n",
    "\n",
    "# group by month and aggregate by custom norain function above \n",
    "# that removes days with no rain, and then sums the rainy days\n",
    "# rename precipitation to rainy_days\n",
    "weather = s.resample('M').agg({'precipitation': norain}).rename(columns={'precipitation':'rainy_days'})\n",
    "\n",
    "rainy_days = weather.rainy_days.sort_values().tail(1).reset_index().date.iloc[0].strftime('%B')\n",
    "print(rainy_days)"
   ]
  },
  {
   "cell_type": "code",
   "execution_count": 48,
   "id": "72be6de9",
   "metadata": {},
   "outputs": [
    {
     "data": {
      "text/html": [
       "<div>\n",
       "<style scoped>\n",
       "    .dataframe tbody tr th:only-of-type {\n",
       "        vertical-align: middle;\n",
       "    }\n",
       "\n",
       "    .dataframe tbody tr th {\n",
       "        vertical-align: top;\n",
       "    }\n",
       "\n",
       "    .dataframe thead th {\n",
       "        text-align: right;\n",
       "    }\n",
       "</style>\n",
       "<table border=\"1\" class=\"dataframe\">\n",
       "  <thead>\n",
       "    <tr style=\"text-align: right;\">\n",
       "      <th></th>\n",
       "      <th>delay</th>\n",
       "      <th>distance</th>\n",
       "      <th>origin</th>\n",
       "      <th>destination</th>\n",
       "    </tr>\n",
       "    <tr>\n",
       "      <th>date</th>\n",
       "      <th></th>\n",
       "      <th></th>\n",
       "      <th></th>\n",
       "      <th></th>\n",
       "    </tr>\n",
       "  </thead>\n",
       "  <tbody>\n",
       "    <tr>\n",
       "      <th>2001-01-13 14:56:00</th>\n",
       "      <td>32</td>\n",
       "      <td>417</td>\n",
       "      <td>SAN</td>\n",
       "      <td>SJC</td>\n",
       "    </tr>\n",
       "    <tr>\n",
       "      <th>2001-01-31 16:40:00</th>\n",
       "      <td>-5</td>\n",
       "      <td>1093</td>\n",
       "      <td>FLL</td>\n",
       "      <td>ISP</td>\n",
       "    </tr>\n",
       "    <tr>\n",
       "      <th>2001-02-11 18:39:00</th>\n",
       "      <td>3</td>\n",
       "      <td>293</td>\n",
       "      <td>LBB</td>\n",
       "      <td>DAL</td>\n",
       "    </tr>\n",
       "    <tr>\n",
       "      <th>2001-01-10 21:00:00</th>\n",
       "      <td>-15</td>\n",
       "      <td>550</td>\n",
       "      <td>MSY</td>\n",
       "      <td>MCO</td>\n",
       "    </tr>\n",
       "    <tr>\n",
       "      <th>2001-03-30 21:45:00</th>\n",
       "      <td>-2</td>\n",
       "      <td>229</td>\n",
       "      <td>STL</td>\n",
       "      <td>IND</td>\n",
       "    </tr>\n",
       "  </tbody>\n",
       "</table>\n",
       "</div>"
      ],
      "text/plain": [
       "                     delay  distance origin destination\n",
       "date                                                   \n",
       "2001-01-13 14:56:00     32       417    SAN         SJC\n",
       "2001-01-31 16:40:00     -5      1093    FLL         ISP\n",
       "2001-02-11 18:39:00      3       293    LBB         DAL\n",
       "2001-01-10 21:00:00    -15       550    MSY         MCO\n",
       "2001-03-30 21:45:00     -2       229    STL         IND"
      ]
     },
     "execution_count": 48,
     "metadata": {},
     "output_type": "execute_result"
    }
   ],
   "source": [
    "# gets the dataframe\n",
    "f = data.flights_20k()\n",
    "\n",
    "# sets the data column as the index\n",
    "f = f.set_index('date')\n",
    "\n",
    "f.head()"
   ]
  },
  {
   "cell_type": "code",
   "execution_count": 49,
   "id": "8660c578",
   "metadata": {},
   "outputs": [
    {
     "name": "stdout",
     "output_type": "stream",
     "text": [
      "<class 'pandas.core.frame.DataFrame'>\n",
      "DatetimeIndex: 20000 entries, 2001-01-13 14:56:00 to 2001-03-14 11:33:00\n",
      "Data columns (total 4 columns):\n",
      " #   Column       Non-Null Count  Dtype \n",
      "---  ------       --------------  ----- \n",
      " 0   delay        20000 non-null  int64 \n",
      " 1   distance     20000 non-null  int64 \n",
      " 2   origin       20000 non-null  object\n",
      " 3   destination  20000 non-null  object\n",
      "dtypes: int64(2), object(2)\n",
      "memory usage: 781.2+ KB\n"
     ]
    }
   ],
   "source": [
    "f.info()"
   ]
  },
  {
   "cell_type": "markdown",
   "id": "ae3e317f",
   "metadata": {},
   "source": [
    "1) Convert any negative delays to 0"
   ]
  },
  {
   "cell_type": "code",
   "execution_count": 51,
   "id": "3b9a6e9b",
   "metadata": {},
   "outputs": [
    {
     "data": {
      "text/html": [
       "<div>\n",
       "<style scoped>\n",
       "    .dataframe tbody tr th:only-of-type {\n",
       "        vertical-align: middle;\n",
       "    }\n",
       "\n",
       "    .dataframe tbody tr th {\n",
       "        vertical-align: top;\n",
       "    }\n",
       "\n",
       "    .dataframe thead th {\n",
       "        text-align: right;\n",
       "    }\n",
       "</style>\n",
       "<table border=\"1\" class=\"dataframe\">\n",
       "  <thead>\n",
       "    <tr style=\"text-align: right;\">\n",
       "      <th></th>\n",
       "      <th>delay</th>\n",
       "      <th>distance</th>\n",
       "      <th>origin</th>\n",
       "      <th>destination</th>\n",
       "    </tr>\n",
       "    <tr>\n",
       "      <th>date</th>\n",
       "      <th></th>\n",
       "      <th></th>\n",
       "      <th></th>\n",
       "      <th></th>\n",
       "    </tr>\n",
       "  </thead>\n",
       "  <tbody>\n",
       "    <tr>\n",
       "      <th>2001-01-13 14:56:00</th>\n",
       "      <td>32</td>\n",
       "      <td>417</td>\n",
       "      <td>SAN</td>\n",
       "      <td>SJC</td>\n",
       "    </tr>\n",
       "    <tr>\n",
       "      <th>2001-01-31 16:40:00</th>\n",
       "      <td>0</td>\n",
       "      <td>1093</td>\n",
       "      <td>FLL</td>\n",
       "      <td>ISP</td>\n",
       "    </tr>\n",
       "    <tr>\n",
       "      <th>2001-02-11 18:39:00</th>\n",
       "      <td>3</td>\n",
       "      <td>293</td>\n",
       "      <td>LBB</td>\n",
       "      <td>DAL</td>\n",
       "    </tr>\n",
       "    <tr>\n",
       "      <th>2001-01-10 21:00:00</th>\n",
       "      <td>0</td>\n",
       "      <td>550</td>\n",
       "      <td>MSY</td>\n",
       "      <td>MCO</td>\n",
       "    </tr>\n",
       "    <tr>\n",
       "      <th>2001-03-30 21:45:00</th>\n",
       "      <td>0</td>\n",
       "      <td>229</td>\n",
       "      <td>STL</td>\n",
       "      <td>IND</td>\n",
       "    </tr>\n",
       "  </tbody>\n",
       "</table>\n",
       "</div>"
      ],
      "text/plain": [
       "                     delay  distance origin destination\n",
       "date                                                   \n",
       "2001-01-13 14:56:00     32       417    SAN         SJC\n",
       "2001-01-31 16:40:00      0      1093    FLL         ISP\n",
       "2001-02-11 18:39:00      3       293    LBB         DAL\n",
       "2001-01-10 21:00:00      0       550    MSY         MCO\n",
       "2001-03-30 21:45:00      0       229    STL         IND"
      ]
     },
     "execution_count": 51,
     "metadata": {},
     "output_type": "execute_result"
    }
   ],
   "source": [
    "def is_delayed(x):\n",
    "    if x > 0:\n",
    "        return x\n",
    "    else:\n",
    "        return 0\n",
    "\n",
    "f.delay = f.delay.apply(lambda x: is_delayed(x))\n",
    "\n",
    "f.head()"
   ]
  },
  {
   "cell_type": "markdown",
   "id": "d434daf1",
   "metadata": {},
   "source": [
    "2) Which hour of the day has the highest average delay"
   ]
  },
  {
   "cell_type": "code",
   "execution_count": 57,
   "id": "084307aa",
   "metadata": {},
   "outputs": [
    {
     "name": "stdout",
     "output_type": "stream",
     "text": [
      "The time of day with the highest delay is: 22\n"
     ]
    }
   ],
   "source": [
    "# group by hour and aggregate by mean\n",
    "# reset index, so index is no longer date\n",
    "hourly = f.resample('H').mean().reset_index()\n",
    "\n",
    "# fills null cells with 0\n",
    "hourly = hourly.fillna(0)\n",
    "\n",
    "# date column now only gives hour of day\n",
    "hourly.date = hourly.date.apply(lambda x: x.strftime('%H'))\n",
    "\n",
    "# groups by hour in date column and aggregates by mean\n",
    "hourly = hourly.groupby('date').mean()\n",
    "\n",
    "# resets index and renames date to hour\n",
    "hourly = hourly.reset_index().rename(columns={'date':'hour'})\n",
    "\n",
    "highest_delay = hourly[hourly.delay == hourly.delay.max()].hour.iloc[0]\n",
    "print('The time of day with the highest delay is:', highest_delay)"
   ]
  },
  {
   "cell_type": "markdown",
   "id": "71b893e0",
   "metadata": {},
   "source": [
    "3) Does the day of the week make a difference in the delay amount?"
   ]
  },
  {
   "cell_type": "code",
   "execution_count": 58,
   "id": "bf07b4e3",
   "metadata": {},
   "outputs": [
    {
     "data": {
      "text/html": [
       "<div>\n",
       "<style scoped>\n",
       "    .dataframe tbody tr th:only-of-type {\n",
       "        vertical-align: middle;\n",
       "    }\n",
       "\n",
       "    .dataframe tbody tr th {\n",
       "        vertical-align: top;\n",
       "    }\n",
       "\n",
       "    .dataframe thead th {\n",
       "        text-align: right;\n",
       "    }\n",
       "</style>\n",
       "<table border=\"1\" class=\"dataframe\">\n",
       "  <thead>\n",
       "    <tr style=\"text-align: right;\">\n",
       "      <th></th>\n",
       "      <th>delay</th>\n",
       "      <th>distance</th>\n",
       "    </tr>\n",
       "    <tr>\n",
       "      <th>day_of_week</th>\n",
       "      <th></th>\n",
       "      <th></th>\n",
       "    </tr>\n",
       "  </thead>\n",
       "  <tbody>\n",
       "    <tr>\n",
       "      <th>Friday</th>\n",
       "      <td>17.344855</td>\n",
       "      <td>370.809138</td>\n",
       "    </tr>\n",
       "    <tr>\n",
       "      <th>Monday</th>\n",
       "      <td>6.251825</td>\n",
       "      <td>366.958384</td>\n",
       "    </tr>\n",
       "    <tr>\n",
       "      <th>Saturday</th>\n",
       "      <td>7.011741</td>\n",
       "      <td>371.838233</td>\n",
       "    </tr>\n",
       "    <tr>\n",
       "      <th>Sunday</th>\n",
       "      <td>8.746833</td>\n",
       "      <td>364.835882</td>\n",
       "    </tr>\n",
       "    <tr>\n",
       "      <th>Thursday</th>\n",
       "      <td>11.745785</td>\n",
       "      <td>358.626695</td>\n",
       "    </tr>\n",
       "    <tr>\n",
       "      <th>Tuesday</th>\n",
       "      <td>8.591634</td>\n",
       "      <td>360.867082</td>\n",
       "    </tr>\n",
       "    <tr>\n",
       "      <th>Wednesday</th>\n",
       "      <td>11.093647</td>\n",
       "      <td>372.189020</td>\n",
       "    </tr>\n",
       "  </tbody>\n",
       "</table>\n",
       "</div>"
      ],
      "text/plain": [
       "                 delay    distance\n",
       "day_of_week                       \n",
       "Friday       17.344855  370.809138\n",
       "Monday        6.251825  366.958384\n",
       "Saturday      7.011741  371.838233\n",
       "Sunday        8.746833  364.835882\n",
       "Thursday     11.745785  358.626695\n",
       "Tuesday       8.591634  360.867082\n",
       "Wednesday    11.093647  372.189020"
      ]
     },
     "execution_count": 58,
     "metadata": {},
     "output_type": "execute_result"
    }
   ],
   "source": [
    "# groups by hour and aggregates by mean, resets index\n",
    "hourly = f.resample('H').mean().reset_index()\n",
    "\n",
    "# fills nulls with 0\n",
    "hourly = hourly.fillna(0)\n",
    "\n",
    "# creates new column day_of_week\n",
    "# gives date as the weekday name\n",
    "# %a: abbreviated weekday name, %A full weekday name\n",
    "hourly['day_of_week'] = hourly.date.apply(lambda x: x.strftime('%A'))\n",
    "\n",
    "# groups by day_of_week and aggregates by mean\n",
    "dow = hourly.groupby('day_of_week').mean()\n",
    "\n",
    "dow\n",
    "\n",
    "# it appears that the day of the week does have a relationship with delays"
   ]
  },
  {
   "cell_type": "markdown",
   "id": "40895cb1",
   "metadata": {},
   "source": [
    "4) Does the month make a difference in the delay amount?"
   ]
  },
  {
   "cell_type": "code",
   "execution_count": 59,
   "id": "d2e75ef1",
   "metadata": {},
   "outputs": [
    {
     "data": {
      "text/html": [
       "<div>\n",
       "<style scoped>\n",
       "    .dataframe tbody tr th:only-of-type {\n",
       "        vertical-align: middle;\n",
       "    }\n",
       "\n",
       "    .dataframe tbody tr th {\n",
       "        vertical-align: top;\n",
       "    }\n",
       "\n",
       "    .dataframe thead th {\n",
       "        text-align: right;\n",
       "    }\n",
       "</style>\n",
       "<table border=\"1\" class=\"dataframe\">\n",
       "  <thead>\n",
       "    <tr style=\"text-align: right;\">\n",
       "      <th></th>\n",
       "      <th>delay</th>\n",
       "      <th>distance</th>\n",
       "    </tr>\n",
       "    <tr>\n",
       "      <th>month</th>\n",
       "      <th></th>\n",
       "      <th></th>\n",
       "    </tr>\n",
       "  </thead>\n",
       "  <tbody>\n",
       "    <tr>\n",
       "      <th>February</th>\n",
       "      <td>12.082455</td>\n",
       "      <td>372.335406</td>\n",
       "    </tr>\n",
       "    <tr>\n",
       "      <th>January</th>\n",
       "      <td>9.916790</td>\n",
       "      <td>361.423767</td>\n",
       "    </tr>\n",
       "    <tr>\n",
       "      <th>March</th>\n",
       "      <td>8.576662</td>\n",
       "      <td>366.607022</td>\n",
       "    </tr>\n",
       "  </tbody>\n",
       "</table>\n",
       "</div>"
      ],
      "text/plain": [
       "              delay    distance\n",
       "month                          \n",
       "February  12.082455  372.335406\n",
       "January    9.916790  361.423767\n",
       "March      8.576662  366.607022"
      ]
     },
     "execution_count": 59,
     "metadata": {},
     "output_type": "execute_result"
    }
   ],
   "source": [
    "# groups by hour and aggregates by mean, resets index\n",
    "hourly = f.resample('H').mean().reset_index()\n",
    "\n",
    "# fills nulls with 0\n",
    "hourly = hourly.fillna(0)\n",
    "\n",
    "# creates new column for month, fills cells with month name\n",
    "# %b: abbreviated month name, %B: full month name\n",
    "hourly['month'] = hourly.date.apply(lambda x: x.strftime('%B'))\n",
    "\n",
    "# groups by month and aggregates by mean\n",
    "dow = hourly.groupby('month').mean()\n",
    "\n",
    "dow\n",
    "\n",
    "# it appears that month does have a relationship with delays"
   ]
  },
  {
   "cell_type": "code",
   "execution_count": null,
   "id": "3f9b495b",
   "metadata": {},
   "outputs": [],
   "source": []
  }
 ],
 "metadata": {
  "kernelspec": {
   "display_name": "Python 3",
   "language": "python",
   "name": "python3"
  },
  "language_info": {
   "codemirror_mode": {
    "name": "ipython",
    "version": 3
   },
   "file_extension": ".py",
   "mimetype": "text/x-python",
   "name": "python",
   "nbconvert_exporter": "python",
   "pygments_lexer": "ipython3",
   "version": "3.8.8"
  }
 },
 "nbformat": 4,
 "nbformat_minor": 5
}
