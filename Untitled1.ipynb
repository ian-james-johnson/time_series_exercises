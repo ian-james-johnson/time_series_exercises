{
 "cells": [
  {
   "cell_type": "code",
   "execution_count": 1,
   "id": "30ed588f",
   "metadata": {},
   "outputs": [],
   "source": [
    "import numpy as np\n",
    "import pandas as pd\n",
    "import os\n",
    "\n",
    "# Used to obtain information from websites\n",
    "import requests"
   ]
  },
  {
   "cell_type": "code",
   "execution_count": null,
   "id": "cabb4011",
   "metadata": {},
   "outputs": [],
   "source": [
    "# Create an empty list that will be appended at each iteration\n",
    "items_list = []\n",
    "# Define the url where the data is kept\n",
    "        base_url = \"https://python.zgulde.net/api/v1/items\"\n",
    "\n",
    "        # Define the response from the request\n",
    "        response = requests.get(base_url)\n",
    "\n",
    "        # Convert the response to JSON\n",
    "        data = response.json()"
   ]
  },
  {
   "cell_type": "code",
   "execution_count": null,
   "id": "33c05824",
   "metadata": {},
   "outputs": [],
   "source": []
  }
 ],
 "metadata": {
  "kernelspec": {
   "display_name": "Python 3",
   "language": "python",
   "name": "python3"
  },
  "language_info": {
   "codemirror_mode": {
    "name": "ipython",
    "version": 3
   },
   "file_extension": ".py",
   "mimetype": "text/x-python",
   "name": "python",
   "nbconvert_exporter": "python",
   "pygments_lexer": "ipython3",
   "version": "3.8.8"
  }
 },
 "nbformat": 4,
 "nbformat_minor": 5
}
